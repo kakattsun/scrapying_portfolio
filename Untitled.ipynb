{
 "cells": [
  {
   "cell_type": "code",
   "execution_count": 2,
   "id": "ecfbc616-6537-499d-9266-049209e55f7e",
   "metadata": {},
   "outputs": [
    {
     "name": "stdout",
     "output_type": "stream",
     "text": [
      "3\n",
      "4\n",
      "5\n",
      "6\n",
      "7\n",
      "8\n",
      "9\n",
      "10\n",
      "11\n",
      "12\n"
     ]
    }
   ],
   "source": [
    "for num in range(10):\n",
    "    print(num + 3)"
   ]
  },
  {
   "cell_type": "code",
   "execution_count": 7,
   "id": "5929bbf6-a96e-488a-8030-901847c45f78",
   "metadata": {},
   "outputs": [
    {
     "name": "stdout",
     "output_type": "stream",
     "text": [
      "こんにちは0です\n",
      "こんにちは1です\n",
      "こんにちは2です\n",
      "こんにちは3です\n",
      "こんにちは4です\n",
      "こんにちは5です\n",
      "こんにちは6です\n",
      "こんにちは7です\n",
      "こんにちは8です\n",
      "こんにちは9です\n"
     ]
    }
   ],
   "source": [
    "for num in range(10):\n",
    "    print(\"こんにちは\" + str(num) + \"です\")"
   ]
  },
  {
   "cell_type": "code",
   "execution_count": null,
   "id": "80541be5-8d04-46be-b152-942eb232780f",
   "metadata": {},
   "outputs": [],
   "source": []
  }
 ],
 "metadata": {
  "kernelspec": {
   "display_name": "Python 3 (ipykernel)",
   "language": "python",
   "name": "python3"
  },
  "language_info": {
   "codemirror_mode": {
    "name": "ipython",
    "version": 3
   },
   "file_extension": ".py",
   "mimetype": "text/x-python",
   "name": "python",
   "nbconvert_exporter": "python",
   "pygments_lexer": "ipython3",
   "version": "3.9.7"
  }
 },
 "nbformat": 4,
 "nbformat_minor": 5
}
