{
 "cells": [
  {
   "cell_type": "code",
   "execution_count": 63,
   "id": "7d74f473-c228-40f4-8abb-94fb797af860",
   "metadata": {
    "tags": []
   },
   "outputs": [],
   "source": [
    "from selenium import webdriver\n",
    "from os.path import join\n",
    "import openpyxl\n",
    "import pandas as pd\n",
    "from datetime import datetime, date, time, timedelta"
   ]
  },
  {
   "cell_type": "code",
   "execution_count": 64,
   "id": "4439c970-5141-4a5f-a8c4-8c1565178101",
   "metadata": {
    "tags": []
   },
   "outputs": [],
   "source": [
    "root = join(\"__file__\", \"..\")"
   ]
  },
  {
   "cell_type": "code",
   "execution_count": 65,
   "id": "80f29c7b-feec-4e23-ad86-07595c8a25ce",
   "metadata": {},
   "outputs": [],
   "source": [
    "driver_path = join(root, \"chromedriver.exe\")"
   ]
  },
  {
   "cell_type": "code",
   "execution_count": 66,
   "id": "16e9c978-5755-4408-b840-d58097234ff3",
   "metadata": {},
   "outputs": [],
   "source": [
    "options = webdriver.ChromeOptions()\n",
    "options.add_experimental_option(\"debuggerAddress\", \"127.0.0.1:9222\")\n",
    "driver = webdriver.Chrome(executable_path=driver_path, options=options)"
   ]
  },
  {
   "cell_type": "code",
   "execution_count": 67,
   "id": "f23f07c2-51d3-4c1a-815b-9e5961c477ed",
   "metadata": {},
   "outputs": [
    {
     "data": {
      "text/plain": [
       "2"
      ]
     },
     "execution_count": 67,
     "metadata": {},
     "output_type": "execute_result"
    }
   ],
   "source": [
    "handle_array = driver.window_handles\n",
    "len(handle_array)"
   ]
  },
  {
   "cell_type": "code",
   "execution_count": 68,
   "id": "9a74ec84-e77b-44ce-b566-8000089c3a37",
   "metadata": {},
   "outputs": [],
   "source": [
    "driver.switch_to.window(handle_array[0])"
   ]
  },
  {
   "cell_type": "code",
   "execution_count": 69,
   "id": "269c0648-4f5b-4d63-bb6a-83ea37bc7240",
   "metadata": {},
   "outputs": [
    {
     "name": "stdout",
     "output_type": "stream",
     "text": [
      "https://www.athleteranking.com/members/compv3/0014_race_schedule.php\n"
     ]
    }
   ],
   "source": [
    "print(driver.current_url)"
   ]
  },
  {
   "cell_type": "code",
   "execution_count": 70,
   "id": "efd03fb1-070a-4dd3-b403-9c6cbbc10228",
   "metadata": {},
   "outputs": [
    {
     "name": "stdout",
     "output_type": "stream",
     "text": [
      "['09:30', '09:30', '09:40', '09:40', '09:40', '09:40', '09:40', '09:40', '10:00', '10:00', '10:00', '10:15', '10:15', '10:15', '10:15', '10:15', '10:15', '10:15', '10:50', '10:50', '10:55', '11:00', '11:00', '11:00', '11:05', '11:40', '11:40', '11:40', '11:40', '11:40', '11:40', '11:40', '11:40', '11:40', '11:40', '11:40', '11:40', '12:00', '12:00', '12:00', '12:00', '12:00', '12:00', '12:00', '12:00', '12:00', '12:00', '12:00', '12:00', '12:00', '12:00', '12:00', '12:00', '12:00', '12:00', '12:00', '12:00', '12:00', '12:00', '12:00', '12:00', '12:00', '12:00', '12:00', '12:00', '12:00', '12:00', '12:00', '12:00', '12:00', '12:00', '13:00', '13:00', '13:10', '13:10', '13:30', '13:30', '13:30', '13:30', '13:30', '13:45', '13:45', '13:45', '13:45', '13:45', '13:45', '13:45', '13:45', '13:45', '13:45', '13:45', '13:45', '13:45', '14:40', '14:50', '14:50', '14:50', '15:00', '15:00', '15:00', '15:20', '15:20', '15:20', '15:20', '15:20', '15:20', '17:30', '18:00', '18:15']\n"
     ]
    }
   ],
   "source": [
    "start_times = []\n",
    "race_number = 109 #レース数+1を代入\n",
    "for num in range(race_number): \n",
    "    start_times.append(driver.find_elements_by_xpath(\"/html/body/div[@class='base']/form/div[@class='bodyBox marginTop219']/table[@class='contentTable']/tbody[@id='id_game_race_tbody']/tr[@id='id_row_\" + str(num) + \"']/td[@class='width7per'][1]/input\")\\\n",
    "[0].get_attribute(\"value\"))\n",
    "print(start_times)"
   ]
  },
  {
   "cell_type": "code",
   "execution_count": 71,
   "id": "6a0cf703-c8df-4ef1-80bd-26f77c54ecd6",
   "metadata": {},
   "outputs": [
    {
     "data": {
      "text/plain": [
       "109"
      ]
     },
     "execution_count": 71,
     "metadata": {},
     "output_type": "execute_result"
    }
   ],
   "source": [
    "len(start_times)"
   ]
  },
  {
   "cell_type": "code",
   "execution_count": 72,
   "id": "42a5f5e7-a0c3-46cc-a74a-3731b5c66958",
   "metadata": {},
   "outputs": [
    {
     "name": "stdout",
     "output_type": "stream",
     "text": [
      "['09:05', '09:05', '09:15', '09:15', '09:15', '09:15', '09:15', '09:15', '09:35', '09:35', '09:35', '09:50', '09:50', '09:50', '09:50', '09:50', '09:50', '09:50', '10:25', '10:25', '10:30', '10:35', '10:35', '10:35', '10:40', '11:15', '11:15', '11:15', '11:15', '11:15', '11:15', '11:15', '11:15', '11:15', '11:15', '11:15', '11:15', '11:35', '11:35', '11:35', '11:35', '11:35', '11:35', '11:35', '11:35', '11:35', '11:35', '11:35', '11:35', '11:35', '11:35', '11:35', '11:35', '11:35', '11:35', '11:35', '11:35', '11:35', '11:35', '11:35', '11:35', '11:35', '11:35', '11:35', '11:35', '11:35', '11:35', '11:35', '11:35', '11:35', '11:35', '12:35', '12:35', '12:45', '12:45', '13:05', '13:05', '13:05', '13:05', '13:05', '13:20', '13:20', '13:20', '13:20', '13:20', '13:20', '13:20', '13:20', '13:20', '13:20', '13:20', '13:20', '13:20', '14:15', '14:25', '14:25', '14:25', '14:35', '14:35', '14:35', '14:55', '14:55', '14:55', '14:55', '14:55', '14:55', '17:05', '17:35', '17:50']\n"
     ]
    }
   ],
   "source": [
    "call_times = []\n",
    "for i in range(race_number):\n",
    "    td = timedelta(minutes = 25)\n",
    "    d = datetime.strptime(f'{start_times[i]}', '%H:%M')\n",
    "    result = d - td\n",
    "    call_times.append(result.strftime('%H:%M'))\n",
    "print(call_times)"
   ]
  },
  {
   "cell_type": "code",
   "execution_count": 74,
   "id": "c6a15c58-e81d-4e54-88a8-06fa15c760fb",
   "metadata": {},
   "outputs": [],
   "source": [
    "for j in range(race_number):\n",
    "    call_time_texts = driver.find_elements_by_xpath(\"/html/body/div[@class='base']/form/div[@class='bodyBox marginTop219']/table[@class='contentTable']/tbody[@id='id_game_race_tbody']/tr[@id='id_row_\" + str(j) + \"']/td[@class='width7per'][2]/input\")[0]\n",
    "    call_time_texts.send_keys(call_times[j])\n",
    "    "
   ]
  },
  {
   "cell_type": "code",
   "execution_count": 75,
   "id": "8f95aca1-07e6-4871-8229-4e3f4d3e467d",
   "metadata": {},
   "outputs": [
    {
     "name": "stdout",
     "output_type": "stream",
     "text": [
      "['09:05', '09:05', '09:15', '09:15', '09:15', '09:15', '09:15', '09:15', '09:35', '09:35', '09:35', '09:50', '09:50', '09:50', '09:50', '09:50', '09:50', '09:50', '10:25', '10:25', '10:30', '10:35', '10:35', '10:35', '10:40', '11:15', '11:15', '11:15', '11:15', '11:15', '11:15', '11:15', '11:15', '11:15', '11:15', '11:15', '11:15', '11:35', '11:35', '11:35', '11:35', '11:35', '11:35', '11:35', '11:35', '11:35', '11:35', '11:35', '11:35', '11:35', '11:35', '11:35', '11:35', '11:35', '11:35', '11:35', '11:35', '11:35', '11:35', '11:35', '11:35', '11:35', '11:35', '11:35', '11:35', '11:35', '11:35', '11:35', '11:35', '11:35', '11:35', '12:35', '12:35', '12:45', '12:45', '13:05', '13:05', '13:05', '13:05', '13:05', '13:20', '13:20', '13:20', '13:20', '13:20', '13:20', '13:20', '13:20', '13:20', '13:20', '13:20', '13:20', '13:20', '14:15', '14:25', '14:25', '14:25', '14:35', '14:35', '14:35', '14:55', '14:55', '14:55', '14:55', '14:55', '14:55', '17:05', '17:35', '17:50']\n"
     ]
    }
   ],
   "source": [
    "call_times2 = []\n",
    "for num in range(race_number):\n",
    "    call_times2.append(driver.find_elements_by_xpath(\"/html/body/div[@class='base']/form/div[@class='bodyBox marginTop219']/table[@class='contentTable']/tbody[@id='id_game_race_tbody']/tr[@id='id_row_\" + str(num) + \"']/td[@class='width7per'][2]/input\")\\\n",
    "[0].get_attribute(\"value\"))\n",
    "print(call_times2)"
   ]
  },
  {
   "cell_type": "code",
   "execution_count": 76,
   "id": "e0b3b20a-23de-4c23-9d71-9d0e3109cc5e",
   "metadata": {},
   "outputs": [
    {
     "name": "stdout",
     "output_type": "stream",
     "text": [
      "['09:15', '09:15', '09:25', '09:25', '09:25', '09:25', '09:25', '09:25', '09:45', '09:45', '09:45', '10:00', '10:00', '10:00', '10:00', '10:00', '10:00', '10:00', '10:35', '10:35', '10:40', '10:45', '10:45', '10:45', '10:50', '11:25', '11:25', '11:25', '11:25', '11:25', '11:25', '11:25', '11:25', '11:25', '11:25', '11:25', '11:25', '11:45', '11:45', '11:45', '11:45', '11:45', '11:45', '11:45', '11:45', '11:45', '11:45', '11:45', '11:45', '11:45', '11:45', '11:45', '11:45', '11:45', '11:45', '11:45', '11:45', '11:45', '11:45', '11:45', '11:45', '11:45', '11:45', '11:45', '11:45', '11:45', '11:45', '11:45', '11:45', '11:45', '11:45', '12:45', '12:45', '12:55', '12:55', '13:15', '13:15', '13:15', '13:15', '13:15', '13:30', '13:30', '13:30', '13:30', '13:30', '13:30', '13:30', '13:30', '13:30', '13:30', '13:30', '13:30', '13:30', '14:25', '14:35', '14:35', '14:35', '14:45', '14:45', '14:45', '15:05', '15:05', '15:05', '15:05', '15:05', '15:05', '17:15', '17:45', '18:00']\n"
     ]
    }
   ],
   "source": [
    "call_end_times = []\n",
    "for k in range(race_number):\n",
    "    td = timedelta(minutes = 10)\n",
    "    d = datetime.strptime(f'{call_times2[k]}', '%H:%M')\n",
    "    result = d + td\n",
    "    call_end_times.append(result.strftime('%H:%M'))\n",
    "print(call_end_times)"
   ]
  },
  {
   "cell_type": "code",
   "execution_count": 77,
   "id": "1a0274ac-7499-4438-9631-4b5d8868c89e",
   "metadata": {},
   "outputs": [
    {
     "data": {
      "text/plain": [
       "109"
      ]
     },
     "execution_count": 77,
     "metadata": {},
     "output_type": "execute_result"
    }
   ],
   "source": [
    "len(call_end_times)"
   ]
  },
  {
   "cell_type": "code",
   "execution_count": 78,
   "id": "29ef4f2d-1b51-49b9-afd5-07fdb4692687",
   "metadata": {},
   "outputs": [],
   "source": [
    "for l in range(len(start_times)):\n",
    "    call_end_time_texts = driver.find_elements_by_xpath(\"/html/body/div[@class='base']/form/div[@class='bodyBox marginTop219']/table[@class='contentTable']/tbody[@id='id_game_race_tbody']/tr[@id='id_row_\" + str(l) + \"']/td[@class='width7per'][3]/input\")[0]\n",
    "    call_end_time_texts.send_keys(call_end_times[l])\n",
    "    "
   ]
  },
  {
   "cell_type": "code",
   "execution_count": null,
   "id": "1294e927-6cc8-415c-8641-d7edf89ff9f4",
   "metadata": {},
   "outputs": [],
   "source": []
  }
 ],
 "metadata": {
  "kernelspec": {
   "display_name": "Python 3 (ipykernel)",
   "language": "python",
   "name": "python3"
  },
  "language_info": {
   "codemirror_mode": {
    "name": "ipython",
    "version": 3
   },
   "file_extension": ".py",
   "mimetype": "text/x-python",
   "name": "python",
   "nbconvert_exporter": "python",
   "pygments_lexer": "ipython3",
   "version": "3.9.7"
  }
 },
 "nbformat": 4,
 "nbformat_minor": 5
}
