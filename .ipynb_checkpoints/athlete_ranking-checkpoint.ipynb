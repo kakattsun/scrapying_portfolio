{
 "cells": [
  {
   "cell_type": "code",
   "execution_count": null,
   "id": "7d74f473-c228-40f4-8abb-94fb797af860",
   "metadata": {
    "tags": []
   },
   "outputs": [],
   "source": [
    "from selenium import webdriver\n",
    "from os.path import join\n",
    "import openpyxl\n",
    "import pandas as pd\n",
    "from datetime import datetime, date, time, timedelta\n",
    "\n",
    "root = join(\"__file__\", \"..\")\n",
    "driver_path = join(root, \"chromedriver.exe\")\n",
    "options = webdriver.ChromeOptions()\n",
    "options.add_experimental_option(\"debuggerAddress\", \"127.0.0.1:9222\")\n",
    "driver = webdriver.Chrome(executable_path=driver_path, options=options)\n",
    "handle_array = driver.window_handles\n",
    "len(handle_array)\n",
    "driver.switch_to.window(handle_array[0])\n",
    "print(driver.current_url)"
   ]
  },
  {
   "cell_type": "code",
   "execution_count": null,
   "id": "5f021540-8de1-4bb5-9295-bd3e05e41092",
   "metadata": {},
   "outputs": [],
   "source": [
    "# 競技種目取得\n",
    "competition_events = []\n",
    "number = 50 #レース数\n",
    "for num in range(number):\n",
    "    competition_events.append(driver.find_elements_by_xpath(\"/html/body/div[@class='base']/form/div[@class='bodyBox marginTop219']/table[@class='contentTable']/tbody[@id='id_game_race_tbody']/tr[@id='id_row_\" + str(num) + \"']/td[@class='width10per']/input\")[0].get_attribute(\"value\"))\n",
    "\n",
    "# 組名取得\n",
    "set_numbers = []\n",
    "for num in range(number):\n",
    "    set_numbers.append(driver.find_elements_by_xpath(\"/html/body/div[@class='base']/form/div[@class='bodyBox marginTop219']/table[@class='contentTable']/tbody[@id='id_game_race_tbody']/tr[@id='id_row_\" + str(num) + \"']/td[@id='id_race_name_\" + str(num) + \"']/input\")[0]\\\n",
    ".get_attribute(\"value\"))\n",
    "\n",
    "\n",
    "# 競技開始時刻取得\n",
    "start_times = []\n",
    "for num in range(number): \n",
    "    start_times.append(driver.find_elements_by_xpath(\"/html/body/div[@class='base']/form/div[@class='bodyBox marginTop219']/table[@class='contentTable']/tbody[@id='id_game_race_tbody']/tr[@id='id_row_\" + str(num) + \"']/td[@class='width7per'][1]/input\")\\\n",
    "[0].get_attribute(\"value\"))\n",
    "    \n",
    "print(competition_events)\n",
    "print(set_numbers)\n",
    "print(start_times)"
   ]
  },
  {
   "cell_type": "code",
   "execution_count": 15,
   "id": "f004a412-6e7d-4063-8f32-5e2f51a9b36a",
   "metadata": {},
   "outputs": [],
   "source": [
    "# エクセルへの書き込み\n",
    "wb = openpyxl.load_workbook(r'C:\\Users\\kakat\\athlete\\athlete.xlsx')\n",
    "ws = wb['Sheet1']\n",
    "# 配列ループ\n",
    "for i in range(number):\n",
    "# A列に種目の書き込み\n",
    "    ws.cell(i + 2, 1, value = competition_events[i])\n",
    "# B列に組名の書き込み\n",
    "    ws.cell(i + 2, 2, value = set_numbers[i])\n",
    "# C列にリストを書き込み\n",
    "    ws.cell(i + 2, 3, value = start_times[i])\n",
    "    \n",
    "wb.save(r'C:\\Users\\kakat\\athlete\\athlete.xlsx')"
   ]
  },
  {
   "cell_type": "code",
   "execution_count": 19,
   "id": "c36e624e-6557-4f39-a258-d26972bc8e3c",
   "metadata": {},
   "outputs": [],
   "source": [
    "# エクセルの値を取得\n",
    "wb = openpyxl.load_workbook(r'C:\\Users\\kakat\\athlete\\athlete.xlsx', data_only=True)\n",
    "ws = wb['Sheet1']\n",
    "call_start = []\n",
    "call_end = []\n",
    "for i in range(number):\n",
    "    call_start.append(ws.cell(row=i + 2, column=5).value)\n",
    "    call_end.append(ws.cell(row=i + 2, column=6).value)\n",
    "\n",
    "# %H:%Mに変換\n",
    "call_start_h_m = []\n",
    "call_end_h_m = []\n",
    "for i in range(number):\n",
    "    call_start_h_m.append(call_start[i].strftime('%H:%M'))\n",
    "    call_end_h_m.append(call_end[i].strftime('%H:%M'))\n",
    "\n",
    "# タイムテーブルに値入力\n",
    "for i in range(number):\n",
    "    call_time_texts = driver.find_elements_by_xpath(\"/html/body/div[@class='base']/form/div[@class='bodyBox marginTop219']/table[@class='contentTable']/tbody[@id='id_game_race_tbody']/tr[@id='id_row_\" + str(i) + \"']/td[@class='width7per'][2]/input\")[0]\n",
    "    call_time_texts.send_keys(call_start_h_m[i])\n",
    "    call_time_end_texts = driver.find_elements_by_xpath(\"/html/body/div[@class='base']/form/div[@class='bodyBox marginTop219']/table[@class='contentTable']/tbody[@id='id_game_race_tbody']/tr[@id='id_row_\" + str(i) + \"']/td[@class='width7per'][3]/input\")[0]\n",
    "    call_time_end_texts.send_keys(call_end_h_m[i])"
   ]
  },
  {
   "cell_type": "code",
   "execution_count": null,
   "id": "f27e4dfe-be05-4b75-a763-94ad61636206",
   "metadata": {},
   "outputs": [],
   "source": []
  }
 ],
 "metadata": {
  "kernelspec": {
   "display_name": "Python 3 (ipykernel)",
   "language": "python",
   "name": "python3"
  },
  "language_info": {
   "codemirror_mode": {
    "name": "ipython",
    "version": 3
   },
   "file_extension": ".py",
   "mimetype": "text/x-python",
   "name": "python",
   "nbconvert_exporter": "python",
   "pygments_lexer": "ipython3",
   "version": "3.9.7"
  }
 },
 "nbformat": 4,
 "nbformat_minor": 5
}
