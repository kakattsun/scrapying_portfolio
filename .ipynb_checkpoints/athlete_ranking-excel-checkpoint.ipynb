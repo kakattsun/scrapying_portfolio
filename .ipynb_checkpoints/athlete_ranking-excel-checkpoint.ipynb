{
 "cells": [
  {
   "cell_type": "code",
   "execution_count": 1,
   "id": "7d74f473-c228-40f4-8abb-94fb797af860",
   "metadata": {
    "tags": []
   },
   "outputs": [],
   "source": [
    "from selenium import webdriver\n",
    "from os.path import join\n",
    "import openpyxl\n",
    "import pandas as pd\n",
    "from datetime import datetime, date, time, timedelta"
   ]
  },
  {
   "cell_type": "code",
   "execution_count": 2,
   "id": "4439c970-5141-4a5f-a8c4-8c1565178101",
   "metadata": {
    "tags": []
   },
   "outputs": [],
   "source": [
    "root = join(\"__file__\", \"..\")"
   ]
  },
  {
   "cell_type": "code",
   "execution_count": 3,
   "id": "80f29c7b-feec-4e23-ad86-07595c8a25ce",
   "metadata": {},
   "outputs": [],
   "source": [
    "driver_path = join(root, \"chromedriver.exe\")"
   ]
  },
  {
   "cell_type": "code",
   "execution_count": 4,
   "id": "16e9c978-5755-4408-b840-d58097234ff3",
   "metadata": {},
   "outputs": [],
   "source": [
    "options = webdriver.ChromeOptions()\n",
    "options.add_experimental_option(\"debuggerAddress\", \"127.0.0.1:9222\")\n",
    "driver = webdriver.Chrome(executable_path=driver_path, options=options)"
   ]
  },
  {
   "cell_type": "code",
   "execution_count": 5,
   "id": "f23f07c2-51d3-4c1a-815b-9e5961c477ed",
   "metadata": {},
   "outputs": [
    {
     "data": {
      "text/plain": [
       "2"
      ]
     },
     "execution_count": 5,
     "metadata": {},
     "output_type": "execute_result"
    }
   ],
   "source": [
    "handle_array = driver.window_handles\n",
    "len(handle_array)"
   ]
  },
  {
   "cell_type": "code",
   "execution_count": 6,
   "id": "9a74ec84-e77b-44ce-b566-8000089c3a37",
   "metadata": {},
   "outputs": [],
   "source": [
    "driver.switch_to.window(handle_array[0])"
   ]
  },
  {
   "cell_type": "code",
   "execution_count": 7,
   "id": "269c0648-4f5b-4d63-bb6a-83ea37bc7240",
   "metadata": {},
   "outputs": [
    {
     "name": "stdout",
     "output_type": "stream",
     "text": [
      "https://www.athleteranking.com/members/compv3/0014_race_schedule.php\n"
     ]
    }
   ],
   "source": [
    "url = driver.current_url\n",
    "print(url)"
   ]
  },
  {
   "cell_type": "code",
   "execution_count": 29,
   "id": "5b94f981-2b82-48a1-9f22-f4b7c088c22b",
   "metadata": {},
   "outputs": [],
   "source": [
    "dfs = pd.read_html(driver.page_source)"
   ]
  },
  {
   "cell_type": "code",
   "execution_count": 31,
   "id": "5120430b-1e92-4145-96a0-b19a4519d709",
   "metadata": {},
   "outputs": [
    {
     "data": {
      "text/html": [
       "<div>\n",
       "<style scoped>\n",
       "    .dataframe tbody tr th:only-of-type {\n",
       "        vertical-align: middle;\n",
       "    }\n",
       "\n",
       "    .dataframe tbody tr th {\n",
       "        vertical-align: top;\n",
       "    }\n",
       "\n",
       "    .dataframe thead th {\n",
       "        text-align: right;\n",
       "    }\n",
       "</style>\n",
       "<table border=\"1\" class=\"dataframe\">\n",
       "  <thead>\n",
       "    <tr style=\"text-align: right;\">\n",
       "      <th></th>\n",
       "      <th>0</th>\n",
       "      <th>1</th>\n",
       "      <th>2</th>\n",
       "      <th>3</th>\n",
       "      <th>4</th>\n",
       "      <th>5</th>\n",
       "      <th>6</th>\n",
       "      <th>7</th>\n",
       "      <th>8</th>\n",
       "      <th>9</th>\n",
       "      <th>10</th>\n",
       "      <th>11</th>\n",
       "      <th>12</th>\n",
       "    </tr>\n",
       "  </thead>\n",
       "  <tbody>\n",
       "    <tr>\n",
       "      <th>0</th>\n",
       "      <td>男</td>\n",
       "      <td>NaN</td>\n",
       "      <td>十種100m</td>\n",
       "      <td>決勝</td>\n",
       "      <td>1</td>\n",
       "      <td>NaN</td>\n",
       "      <td>NaN</td>\n",
       "      <td>07/1607/17</td>\n",
       "      <td>NaN</td>\n",
       "      <td>NaN</td>\n",
       "      <td>NaN</td>\n",
       "      <td>NaN</td>\n",
       "      <td>NaN</td>\n",
       "    </tr>\n",
       "    <tr>\n",
       "      <th>1</th>\n",
       "      <td>女</td>\n",
       "      <td>NaN</td>\n",
       "      <td>七種100mH:84.0cm</td>\n",
       "      <td>決勝</td>\n",
       "      <td>1</td>\n",
       "      <td>NaN</td>\n",
       "      <td>NaN</td>\n",
       "      <td>07/1607/17</td>\n",
       "      <td>NaN</td>\n",
       "      <td>NaN</td>\n",
       "      <td>NaN</td>\n",
       "      <td>NaN</td>\n",
       "      <td>NaN</td>\n",
       "    </tr>\n",
       "    <tr>\n",
       "      <th>2</th>\n",
       "      <td>女</td>\n",
       "      <td>NaN</td>\n",
       "      <td>100mH:84.0cm</td>\n",
       "      <td>予選</td>\n",
       "      <td>1</td>\n",
       "      <td>NaN</td>\n",
       "      <td>NaN</td>\n",
       "      <td>07/1607/17</td>\n",
       "      <td>NaN</td>\n",
       "      <td>NaN</td>\n",
       "      <td>NaN</td>\n",
       "      <td>NaN</td>\n",
       "      <td>NaN</td>\n",
       "    </tr>\n",
       "    <tr>\n",
       "      <th>3</th>\n",
       "      <td>女</td>\n",
       "      <td>NaN</td>\n",
       "      <td>100mH:84.0cm</td>\n",
       "      <td>予選</td>\n",
       "      <td>2</td>\n",
       "      <td>NaN</td>\n",
       "      <td>NaN</td>\n",
       "      <td>07/1607/17</td>\n",
       "      <td>NaN</td>\n",
       "      <td>NaN</td>\n",
       "      <td>NaN</td>\n",
       "      <td>NaN</td>\n",
       "      <td>NaN</td>\n",
       "    </tr>\n",
       "    <tr>\n",
       "      <th>4</th>\n",
       "      <td>男</td>\n",
       "      <td>少年B</td>\n",
       "      <td>110mH:99.1cm</td>\n",
       "      <td>予選</td>\n",
       "      <td>1</td>\n",
       "      <td>NaN</td>\n",
       "      <td>NaN</td>\n",
       "      <td>07/1607/17</td>\n",
       "      <td>NaN</td>\n",
       "      <td>NaN</td>\n",
       "      <td>NaN</td>\n",
       "      <td>NaN</td>\n",
       "      <td>NaN</td>\n",
       "    </tr>\n",
       "    <tr>\n",
       "      <th>...</th>\n",
       "      <td>...</td>\n",
       "      <td>...</td>\n",
       "      <td>...</td>\n",
       "      <td>...</td>\n",
       "      <td>...</td>\n",
       "      <td>...</td>\n",
       "      <td>...</td>\n",
       "      <td>...</td>\n",
       "      <td>...</td>\n",
       "      <td>...</td>\n",
       "      <td>...</td>\n",
       "      <td>...</td>\n",
       "      <td>...</td>\n",
       "    </tr>\n",
       "    <tr>\n",
       "      <th>77</th>\n",
       "      <td>男</td>\n",
       "      <td>NaN</td>\n",
       "      <td>100m</td>\n",
       "      <td>決勝</td>\n",
       "      <td>1</td>\n",
       "      <td>NaN</td>\n",
       "      <td>NaN</td>\n",
       "      <td>07/1607/17</td>\n",
       "      <td>NaN</td>\n",
       "      <td>NaN</td>\n",
       "      <td>NaN</td>\n",
       "      <td>NaN</td>\n",
       "      <td>NaN</td>\n",
       "    </tr>\n",
       "    <tr>\n",
       "      <th>78</th>\n",
       "      <td>女</td>\n",
       "      <td>NaN</td>\n",
       "      <td>400m</td>\n",
       "      <td>決勝</td>\n",
       "      <td>1</td>\n",
       "      <td>NaN</td>\n",
       "      <td>NaN</td>\n",
       "      <td>07/1607/17</td>\n",
       "      <td>NaN</td>\n",
       "      <td>NaN</td>\n",
       "      <td>NaN</td>\n",
       "      <td>NaN</td>\n",
       "      <td>NaN</td>\n",
       "    </tr>\n",
       "    <tr>\n",
       "      <th>79</th>\n",
       "      <td>男</td>\n",
       "      <td>NaN</td>\n",
       "      <td>400m</td>\n",
       "      <td>決勝</td>\n",
       "      <td>1</td>\n",
       "      <td>NaN</td>\n",
       "      <td>NaN</td>\n",
       "      <td>07/1607/17</td>\n",
       "      <td>NaN</td>\n",
       "      <td>NaN</td>\n",
       "      <td>NaN</td>\n",
       "      <td>NaN</td>\n",
       "      <td>NaN</td>\n",
       "    </tr>\n",
       "    <tr>\n",
       "      <th>80</th>\n",
       "      <td>女</td>\n",
       "      <td>NaN</td>\n",
       "      <td>七種200m</td>\n",
       "      <td>決勝</td>\n",
       "      <td>1</td>\n",
       "      <td>NaN</td>\n",
       "      <td>NaN</td>\n",
       "      <td>07/1607/17</td>\n",
       "      <td>NaN</td>\n",
       "      <td>NaN</td>\n",
       "      <td>NaN</td>\n",
       "      <td>NaN</td>\n",
       "      <td>NaN</td>\n",
       "    </tr>\n",
       "    <tr>\n",
       "      <th>81</th>\n",
       "      <td>男</td>\n",
       "      <td>NaN</td>\n",
       "      <td>十種400m</td>\n",
       "      <td>決勝</td>\n",
       "      <td>1</td>\n",
       "      <td>NaN</td>\n",
       "      <td>NaN</td>\n",
       "      <td>07/1607/17</td>\n",
       "      <td>NaN</td>\n",
       "      <td>NaN</td>\n",
       "      <td>NaN</td>\n",
       "      <td>NaN</td>\n",
       "      <td>NaN</td>\n",
       "    </tr>\n",
       "  </tbody>\n",
       "</table>\n",
       "<p>82 rows × 13 columns</p>\n",
       "</div>"
      ],
      "text/plain": [
       "   0    1               2   3   4   5   6           7   8   9   10  11  12\n",
       "0   男  NaN          十種100m  決勝   1 NaN NaN  07/1607/17 NaN NaN NaN NaN NaN\n",
       "1   女  NaN  七種100mH:84.0cm  決勝   1 NaN NaN  07/1607/17 NaN NaN NaN NaN NaN\n",
       "2   女  NaN    100mH:84.0cm  予選   1 NaN NaN  07/1607/17 NaN NaN NaN NaN NaN\n",
       "3   女  NaN    100mH:84.0cm  予選   2 NaN NaN  07/1607/17 NaN NaN NaN NaN NaN\n",
       "4   男  少年B    110mH:99.1cm  予選   1 NaN NaN  07/1607/17 NaN NaN NaN NaN NaN\n",
       ".. ..  ...             ...  ..  ..  ..  ..         ...  ..  ..  ..  ..  ..\n",
       "77  男  NaN            100m  決勝   1 NaN NaN  07/1607/17 NaN NaN NaN NaN NaN\n",
       "78  女  NaN            400m  決勝   1 NaN NaN  07/1607/17 NaN NaN NaN NaN NaN\n",
       "79  男  NaN            400m  決勝   1 NaN NaN  07/1607/17 NaN NaN NaN NaN NaN\n",
       "80  女  NaN          七種200m  決勝   1 NaN NaN  07/1607/17 NaN NaN NaN NaN NaN\n",
       "81  男  NaN          十種400m  決勝   1 NaN NaN  07/1607/17 NaN NaN NaN NaN NaN\n",
       "\n",
       "[82 rows x 13 columns]"
      ]
     },
     "execution_count": 31,
     "metadata": {},
     "output_type": "execute_result"
    }
   ],
   "source": [
    "df = dfs[2]\n",
    "df"
   ]
  },
  {
   "cell_type": "code",
   "execution_count": 32,
   "id": "dfe9ef4c-1844-4921-85e4-dda14f72481b",
   "metadata": {},
   "outputs": [
    {
     "name": "stderr",
     "output_type": "stream",
     "text": [
      "C:\\Users\\kakat\\anaconda3\\lib\\site-packages\\pandas\\core\\internals\\construction.py:540: VisibleDeprecationWarning: Creating an ndarray from ragged nested sequences (which is a list-or-tuple of lists-or-tuples-or ndarrays with different lengths or shapes) is deprecated. If you meant to do this, you must specify 'dtype=object' when creating the ndarray.\n",
      "  values = np.array([convert(v) for v in values])\n"
     ]
    }
   ],
   "source": [
    "psd = pd.DataFrame(page_source)"
   ]
  },
  {
   "cell_type": "code",
   "execution_count": 15,
   "id": "42008b37-da71-40c1-b271-32b1b90b5cd2",
   "metadata": {},
   "outputs": [
    {
     "data": {
      "text/plain": [
       "pandas.core.frame.DataFrame"
      ]
     },
     "execution_count": 15,
     "metadata": {},
     "output_type": "execute_result"
    }
   ],
   "source": [
    "psd"
   ]
  },
  {
   "cell_type": "code",
   "execution_count": 70,
   "id": "efd03fb1-070a-4dd3-b403-9c6cbbc10228",
   "metadata": {},
   "outputs": [
    {
     "name": "stdout",
     "output_type": "stream",
     "text": [
      "['09:30', '09:30', '09:40', '09:40', '09:40', '09:40', '09:40', '09:40', '10:00', '10:00', '10:00', '10:15', '10:15', '10:15', '10:15', '10:15', '10:15', '10:15', '10:50', '10:50', '10:55', '11:00', '11:00', '11:00', '11:05', '11:40', '11:40', '11:40', '11:40', '11:40', '11:40', '11:40', '11:40', '11:40', '11:40', '11:40', '11:40', '12:00', '12:00', '12:00', '12:00', '12:00', '12:00', '12:00', '12:00', '12:00', '12:00', '12:00', '12:00', '12:00', '12:00', '12:00', '12:00', '12:00', '12:00', '12:00', '12:00', '12:00', '12:00', '12:00', '12:00', '12:00', '12:00', '12:00', '12:00', '12:00', '12:00', '12:00', '12:00', '12:00', '12:00', '13:00', '13:00', '13:10', '13:10', '13:30', '13:30', '13:30', '13:30', '13:30', '13:45', '13:45', '13:45', '13:45', '13:45', '13:45', '13:45', '13:45', '13:45', '13:45', '13:45', '13:45', '13:45', '14:40', '14:50', '14:50', '14:50', '15:00', '15:00', '15:00', '15:20', '15:20', '15:20', '15:20', '15:20', '15:20', '17:30', '18:00', '18:15']\n"
     ]
    }
   ],
   "source": [
    "start_times = []\n",
    "race_number = 109 #レース数+1を代入\n",
    "for num in range(race_number): \n",
    "    start_times.append(driver.find_elements_by_xpath(\"/html/body/div[@class='base']/form/div[@class='bodyBox marginTop219']/table[@class='contentTable']/tbody[@id='id_game_race_tbody']/tr[@id='id_row_\" + str(num) + \"']/td[@class='width7per'][1]/input\")\\\n",
    "[0].get_attribute(\"value\"))\n",
    "print(start_times)"
   ]
  },
  {
   "cell_type": "code",
   "execution_count": null,
   "id": "6a0cf703-c8df-4ef1-80bd-26f77c54ecd6",
   "metadata": {},
   "outputs": [
    {
     "data": {
      "text/plain": [
       "109"
      ]
     },
     "execution_count": 71,
     "metadata": {},
     "output_type": "execute_result"
    }
   ],
   "source": [
    "len(start_times)"
   ]
  },
  {
   "cell_type": "code",
   "execution_count": null,
   "id": "42a5f5e7-a0c3-46cc-a74a-3731b5c66958",
   "metadata": {},
   "outputs": [
    {
     "name": "stdout",
     "output_type": "stream",
     "text": [
      "['09:05', '09:05', '09:15', '09:15', '09:15', '09:15', '09:15', '09:15', '09:35', '09:35', '09:35', '09:50', '09:50', '09:50', '09:50', '09:50', '09:50', '09:50', '10:25', '10:25', '10:30', '10:35', '10:35', '10:35', '10:40', '11:15', '11:15', '11:15', '11:15', '11:15', '11:15', '11:15', '11:15', '11:15', '11:15', '11:15', '11:15', '11:35', '11:35', '11:35', '11:35', '11:35', '11:35', '11:35', '11:35', '11:35', '11:35', '11:35', '11:35', '11:35', '11:35', '11:35', '11:35', '11:35', '11:35', '11:35', '11:35', '11:35', '11:35', '11:35', '11:35', '11:35', '11:35', '11:35', '11:35', '11:35', '11:35', '11:35', '11:35', '11:35', '11:35', '12:35', '12:35', '12:45', '12:45', '13:05', '13:05', '13:05', '13:05', '13:05', '13:20', '13:20', '13:20', '13:20', '13:20', '13:20', '13:20', '13:20', '13:20', '13:20', '13:20', '13:20', '13:20', '14:15', '14:25', '14:25', '14:25', '14:35', '14:35', '14:35', '14:55', '14:55', '14:55', '14:55', '14:55', '14:55', '17:05', '17:35', '17:50']\n"
     ]
    }
   ],
   "source": [
    "call_times = []\n",
    "for i in range(race_number):\n",
    "    td = timedelta(minutes = 25)\n",
    "    d = datetime.strptime(f'{start_times[i]}', '%H:%M')\n",
    "    result = d - td\n",
    "    call_times.append(result.strftime('%H:%M'))\n",
    "print(call_times)"
   ]
  },
  {
   "cell_type": "code",
   "execution_count": null,
   "id": "c6a15c58-e81d-4e54-88a8-06fa15c760fb",
   "metadata": {},
   "outputs": [],
   "source": [
    "for j in range(race_number):\n",
    "    call_time_texts = driver.find_elements_by_xpath(\"/html/body/div[@class='base']/form/div[@class='bodyBox marginTop219']/table[@class='contentTable']/tbody[@id='id_game_race_tbody']/tr[@id='id_row_\" + str(j) + \"']/td[@class='width7per'][2]/input\")[0]\n",
    "    call_time_texts.send_keys(call_times[j])\n",
    "    "
   ]
  },
  {
   "cell_type": "code",
   "execution_count": null,
   "id": "8f95aca1-07e6-4871-8229-4e3f4d3e467d",
   "metadata": {},
   "outputs": [
    {
     "name": "stdout",
     "output_type": "stream",
     "text": [
      "['09:05', '09:05', '09:15', '09:15', '09:15', '09:15', '09:15', '09:15', '09:35', '09:35', '09:35', '09:50', '09:50', '09:50', '09:50', '09:50', '09:50', '09:50', '10:25', '10:25', '10:30', '10:35', '10:35', '10:35', '10:40', '11:15', '11:15', '11:15', '11:15', '11:15', '11:15', '11:15', '11:15', '11:15', '11:15', '11:15', '11:15', '11:35', '11:35', '11:35', '11:35', '11:35', '11:35', '11:35', '11:35', '11:35', '11:35', '11:35', '11:35', '11:35', '11:35', '11:35', '11:35', '11:35', '11:35', '11:35', '11:35', '11:35', '11:35', '11:35', '11:35', '11:35', '11:35', '11:35', '11:35', '11:35', '11:35', '11:35', '11:35', '11:35', '11:35', '12:35', '12:35', '12:45', '12:45', '13:05', '13:05', '13:05', '13:05', '13:05', '13:20', '13:20', '13:20', '13:20', '13:20', '13:20', '13:20', '13:20', '13:20', '13:20', '13:20', '13:20', '13:20', '14:15', '14:25', '14:25', '14:25', '14:35', '14:35', '14:35', '14:55', '14:55', '14:55', '14:55', '14:55', '14:55', '17:05', '17:35', '17:50']\n"
     ]
    }
   ],
   "source": [
    "call_times2 = []\n",
    "for num in range(race_number):\n",
    "    call_times2.append(driver.find_elements_by_xpath(\"/html/body/div[@class='base']/form/div[@class='bodyBox marginTop219']/table[@class='contentTable']/tbody[@id='id_game_race_tbody']/tr[@id='id_row_\" + str(num) + \"']/td[@class='width7per'][2]/input\")\\\n",
    "[0].get_attribute(\"value\"))\n",
    "print(call_times2)"
   ]
  },
  {
   "cell_type": "code",
   "execution_count": null,
   "id": "e0b3b20a-23de-4c23-9d71-9d0e3109cc5e",
   "metadata": {},
   "outputs": [
    {
     "name": "stdout",
     "output_type": "stream",
     "text": [
      "['09:15', '09:15', '09:25', '09:25', '09:25', '09:25', '09:25', '09:25', '09:45', '09:45', '09:45', '10:00', '10:00', '10:00', '10:00', '10:00', '10:00', '10:00', '10:35', '10:35', '10:40', '10:45', '10:45', '10:45', '10:50', '11:25', '11:25', '11:25', '11:25', '11:25', '11:25', '11:25', '11:25', '11:25', '11:25', '11:25', '11:25', '11:45', '11:45', '11:45', '11:45', '11:45', '11:45', '11:45', '11:45', '11:45', '11:45', '11:45', '11:45', '11:45', '11:45', '11:45', '11:45', '11:45', '11:45', '11:45', '11:45', '11:45', '11:45', '11:45', '11:45', '11:45', '11:45', '11:45', '11:45', '11:45', '11:45', '11:45', '11:45', '11:45', '11:45', '12:45', '12:45', '12:55', '12:55', '13:15', '13:15', '13:15', '13:15', '13:15', '13:30', '13:30', '13:30', '13:30', '13:30', '13:30', '13:30', '13:30', '13:30', '13:30', '13:30', '13:30', '13:30', '14:25', '14:35', '14:35', '14:35', '14:45', '14:45', '14:45', '15:05', '15:05', '15:05', '15:05', '15:05', '15:05', '17:15', '17:45', '18:00']\n"
     ]
    }
   ],
   "source": [
    "call_end_times = []\n",
    "for k in range(race_number):\n",
    "    td = timedelta(minutes = 10)\n",
    "    d = datetime.strptime(f'{call_times2[k]}', '%H:%M')\n",
    "    result = d + td\n",
    "    call_end_times.append(result.strftime('%H:%M'))\n",
    "print(call_end_times)"
   ]
  },
  {
   "cell_type": "code",
   "execution_count": 77,
   "id": "1a0274ac-7499-4438-9631-4b5d8868c89e",
   "metadata": {},
   "outputs": [
    {
     "data": {
      "text/plain": [
       "109"
      ]
     },
     "execution_count": 77,
     "metadata": {},
     "output_type": "execute_result"
    }
   ],
   "source": [
    "len(call_end_times)"
   ]
  },
  {
   "cell_type": "code",
   "execution_count": 78,
   "id": "29ef4f2d-1b51-49b9-afd5-07fdb4692687",
   "metadata": {},
   "outputs": [],
   "source": [
    "for l in range(len(start_times)):\n",
    "    call_end_time_texts = driver.find_elements_by_xpath(\"/html/body/div[@class='base']/form/div[@class='bodyBox marginTop219']/table[@class='contentTable']/tbody[@id='id_game_race_tbody']/tr[@id='id_row_\" + str(l) + \"']/td[@class='width7per'][3]/input\")[0]\n",
    "    call_end_time_texts.send_keys(call_end_times[l])\n",
    "    "
   ]
  },
  {
   "cell_type": "code",
   "execution_count": null,
   "id": "1294e927-6cc8-415c-8641-d7edf89ff9f4",
   "metadata": {},
   "outputs": [],
   "source": []
  }
 ],
 "metadata": {
  "kernelspec": {
   "display_name": "Python 3 (ipykernel)",
   "language": "python",
   "name": "python3"
  },
  "language_info": {
   "codemirror_mode": {
    "name": "ipython",
    "version": 3
   },
   "file_extension": ".py",
   "mimetype": "text/x-python",
   "name": "python",
   "nbconvert_exporter": "python",
   "pygments_lexer": "ipython3",
   "version": "3.9.7"
  }
 },
 "nbformat": 4,
 "nbformat_minor": 5
}
